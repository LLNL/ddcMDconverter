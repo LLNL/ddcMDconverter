{
 "cells": [
  {
   "cell_type": "code",
   "execution_count": 1,
   "id": "79b81de7",
   "metadata": {},
   "outputs": [
    {
     "name": "stdout",
     "output_type": "stream",
     "text": [
      "1\n",
      "3\n",
      "5\n",
      "7\n",
      "910\n"
     ]
    }
   ],
   "source": [
    "l=[1,2,3,4,5,6,7,8,910]\n",
    "\n",
    "for idx, val in enumerate(l):\n",
    "    if val %2==0:\n",
    "        del l[idx]\n",
    "        \n",
    "for val in l:\n",
    "    print(val)"
   ]
  },
  {
   "cell_type": "code",
   "execution_count": null,
   "id": "5da69e4a",
   "metadata": {},
   "outputs": [],
   "source": []
  }
 ],
 "metadata": {
  "kernelspec": {
   "display_name": "Python 3",
   "language": "python",
   "name": "python3"
  },
  "language_info": {
   "codemirror_mode": {
    "name": "ipython",
    "version": 3
   },
   "file_extension": ".py",
   "mimetype": "text/x-python",
   "name": "python",
   "nbconvert_exporter": "python",
   "pygments_lexer": "ipython3",
   "version": "3.8.8"
  }
 },
 "nbformat": 4,
 "nbformat_minor": 5
}
